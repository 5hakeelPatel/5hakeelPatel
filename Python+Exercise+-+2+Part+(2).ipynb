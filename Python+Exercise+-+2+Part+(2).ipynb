{
  "nbformat": 4,
  "nbformat_minor": 0,
  "metadata": {
    "kernelspec": {
      "display_name": "Python 3",
      "language": "python",
      "name": "python3"
    },
    "language_info": {
      "codemirror_mode": {
        "name": "ipython",
        "version": 3
      },
      "file_extension": ".py",
      "mimetype": "text/x-python",
      "name": "python",
      "nbconvert_exporter": "python",
      "pygments_lexer": "ipython3",
      "version": "3.7.3"
    },
    "colab": {
      "name": "Python+Exercise+-+2+Part+(2).ipynb",
      "provenance": []
    }
  },
  "cells": [
    {
      "cell_type": "code",
      "metadata": {
        "id": "3X3LGHTWqddM"
      },
      "source": [
        "# employee data with key as id of the employee and values as age of the employee\n",
        "Employee_data ={101: 43, 102: 25, 103: 43, 104: 31, 105: 26, 106: 28, 107: 29, 108: 43, 109: 25, 110: 22, 111: 22, 112: 25, 113: 30, 115: 45, 116: 23, 117: 29, 118: 28, 119: 30, 120: 28, 121: 42, 122: 39, 123: 29, 124: 42, 125: 43, 126: 42, 127: 40, 128: 27, 129: 23, 130: 30, 131: 37, 132: 20, 133: 36, 134: 27, 135: 27, 136: 22, 137: 28, 138: 23, 139: 45, 140: 39, 141: 29, 142: 33, 143: 39, 145: 34, 146: 26, 147: 30, 148: 38, 149: 29, 150: 24, 151: 28, 152: 34, 153: 42, 154: 29, 155: 23, 156: 31, 158: 25, 160: 45, 161: 42, 162: 27, 163: 24, 164: 20, 166: 24, 167: 28, 168: 20, 169: 33, 170: 34, 171: 37, 172: 45, 173: 35, 174: 23, 175: 44, 176: 27, 177: 30, 178: 26, 179: 27} "
      ],
      "execution_count": 28,
      "outputs": []
    },
    {
      "cell_type": "markdown",
      "metadata": {
        "id": "5kvbCyacqddQ"
      },
      "source": [
        "#### Identify the senior most employees age\n",
        "\n",
        "- 45\n",
        "- 44\n",
        "- 48\n",
        "- 42"
      ]
    },
    {
      "cell_type": "code",
      "metadata": {
        "id": "Ibbphi60qddQ",
        "outputId": "dfa7dd1e-b318-4e17-af88-23b2cf6af530",
        "colab": {
          "base_uri": "https://localhost:8080/"
        }
      },
      "source": [
        "max(Employee_data.values())"
      ],
      "execution_count": 3,
      "outputs": [
        {
          "output_type": "execute_result",
          "data": {
            "text/plain": [
              "45"
            ]
          },
          "metadata": {
            "tags": []
          },
          "execution_count": 3
        }
      ]
    },
    {
      "cell_type": "markdown",
      "metadata": {
        "id": "PZl39PkKqddR"
      },
      "source": [
        "#### Identify the age of the employee with employee id 159 [ If the employee isn't present return NA]\n",
        "\n",
        "- 25\n",
        "- 32\n",
        "- NA\n",
        "- 42"
      ]
    },
    {
      "cell_type": "code",
      "metadata": {
        "id": "DM8GDgucqddR"
      },
      "source": [
        "Employee_data.get(159)"
      ],
      "execution_count": 33,
      "outputs": []
    },
    {
      "cell_type": "markdown",
      "metadata": {
        "id": "Q3MPfC8jqddR"
      },
      "source": [
        "#### Count the total number of employee in the organization\n",
        "\n",
        "- 79\n",
        "- 78\n",
        "- 60\n",
        "- 74"
      ]
    },
    {
      "cell_type": "code",
      "metadata": {
        "id": "plHx_V2KqddR",
        "outputId": "7bf1bb6c-9594-4b07-e1c4-56f4e5d306ed",
        "colab": {
          "base_uri": "https://localhost:8080/"
        }
      },
      "source": [
        "len(Employee_data.keys())"
      ],
      "execution_count": 10,
      "outputs": [
        {
          "output_type": "execute_result",
          "data": {
            "text/plain": [
              "74"
            ]
          },
          "metadata": {
            "tags": []
          },
          "execution_count": 10
        }
      ]
    },
    {
      "cell_type": "markdown",
      "metadata": {
        "id": "W5fyinneqddS"
      },
      "source": [
        "#### Calculate the mean age of the employees\n",
        "\n",
        "- 31.36\n",
        "- 36.48\n",
        "- 28.77\n",
        "- 32.47"
      ]
    },
    {
      "cell_type": "code",
      "metadata": {
        "id": "YcjwVlHyqddS",
        "outputId": "67e567f3-f9c0-4973-e8ea-a4e0b75225eb",
        "colab": {
          "base_uri": "https://localhost:8080/"
        }
      },
      "source": [
        "mean = (sum(Employee_data.values()))/(len(Employee_data.keys()))\n",
        "print(mean)"
      ],
      "execution_count": 13,
      "outputs": [
        {
          "output_type": "stream",
          "text": [
            "31.364864864864863\n"
          ],
          "name": "stdout"
        }
      ]
    },
    {
      "cell_type": "markdown",
      "metadata": {
        "id": "Qv5o1ZpIqddT"
      },
      "source": [
        "#### Perform the following two tasks and then calculate the updated mean age of the employees\n",
        "Task1 Update the ages of employee id - 104,140, and 164 as 27 <br>\n",
        "Task2 Remove the employ with employee id - 143 <br>\n",
        "\n",
        "- 30.71\n",
        "- 31.36\n",
        "- 30.13\n",
        "- 31.13\n"
      ]
    },
    {
      "cell_type": "code",
      "metadata": {
        "id": "Qe_9N_XCqddT"
      },
      "source": [
        "Employee_data[104]=27\n",
        "Employee_data[140]=27\n",
        "Employee_data[164]=27"
      ],
      "execution_count": 29,
      "outputs": []
    },
    {
      "cell_type": "code",
      "metadata": {
        "id": "spPbkpCIsPCb",
        "outputId": "ec3fc67b-f16a-4cdf-e032-1deaee278868",
        "colab": {
          "base_uri": "https://localhost:8080/"
        }
      },
      "source": [
        "Employee_data[104]"
      ],
      "execution_count": 30,
      "outputs": [
        {
          "output_type": "execute_result",
          "data": {
            "text/plain": [
              "27"
            ]
          },
          "metadata": {
            "tags": []
          },
          "execution_count": 30
        }
      ]
    },
    {
      "cell_type": "code",
      "metadata": {
        "id": "Sbq-3gJbsDyi"
      },
      "source": [
        "del(Employee_data[143])"
      ],
      "execution_count": 31,
      "outputs": []
    },
    {
      "cell_type": "code",
      "metadata": {
        "id": "HGkwrd4BsHW-",
        "outputId": "34a181ff-d287-4de5-9719-b234290a6d5f",
        "colab": {
          "base_uri": "https://localhost:8080/"
        }
      },
      "source": [
        "mean = (sum(Employee_data.values()))/(len(Employee_data.keys()))\n",
        "print(mean)"
      ],
      "execution_count": 32,
      "outputs": [
        {
          "output_type": "stream",
          "text": [
            "31.136986301369863\n"
          ],
          "name": "stdout"
        }
      ]
    },
    {
      "cell_type": "code",
      "metadata": {
        "id": "ZdoxilGNsJkC"
      },
      "source": [
        ""
      ],
      "execution_count": 32,
      "outputs": []
    }
  ]
}