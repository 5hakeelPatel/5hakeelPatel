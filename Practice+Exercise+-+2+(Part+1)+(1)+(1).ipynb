{
  "nbformat": 4,
  "nbformat_minor": 0,
  "metadata": {
    "kernelspec": {
      "display_name": "Python 3",
      "language": "python",
      "name": "python3"
    },
    "language_info": {
      "codemirror_mode": {
        "name": "ipython",
        "version": 3
      },
      "file_extension": ".py",
      "mimetype": "text/x-python",
      "name": "python",
      "nbconvert_exporter": "python",
      "pygments_lexer": "ipython3",
      "version": "3.7.3"
    },
    "colab": {
      "name": "Practice+Exercise+-+2+(Part+1)+(1)+(1).ipynb",
      "provenance": [],
      "include_colab_link": true
    }
  },
  "cells": [
    {
      "cell_type": "markdown",
      "metadata": {
        "id": "view-in-github",
        "colab_type": "text"
      },
      "source": [
        "<a href=\"https://colab.research.google.com/github/5hakeelPatel/5hakeelPatel/blob/main/Practice%2BExercise%2B-%2B2%2B(Part%2B1)%2B(1)%2B(1).ipynb\" target=\"_parent\"><img src=\"https://colab.research.google.com/assets/colab-badge.svg\" alt=\"Open In Colab\"/></a>"
      ]
    },
    {
      "cell_type": "code",
      "metadata": {
        "collapsed": true,
        "id": "02p-DB4UmJ_A"
      },
      "source": [
        "# List of order ID’s which are processed \n",
        "processed_orders = [1152, 1154, 1155, 1156, 1157, 1160, 1161, 1162, 1166, 1169, 1170, 1172, 1176, 1050, 1178, 1051, 1052, 1054, 1058, 1060, 1061, 1062, 1065, 1066, 1067, 1068, 1069, 1076, 1077, 1080, 1081, 1083, 1091, 1085, 1088, 1089, 1131, 1092, 1094, 1095, 1099, 1102, 1103, 1104, 1106, 1107, 1108, 1109, 1111, 1117, 1119, 1121, 1150, 1128, 1129, 1136, 1137, 1139, 1140, 1141, 1144, 1148, 1124]\n",
        "\n",
        "# List of order ID’s which are returned\n",
        "returned_orders = [1153, 1158, 1159, 1163, 1164, 1165, 1167, 1168, 1171, 1173, 1174, 1175, 1177, 1053, 1055, 1056, 1057, 1059, 1063, 1064, 1070, 1071, 1072, 1073, 1074, 1075, 1078, 1079, 1082, 1084, 1086, 1087, 1090, 1093, 1096, 1097, 1098, 1100, 1101, 1105, 1110, 1112, 1113, 1114, 1115, 1116, 1118, 1120, 1122, 1123, 1125, 1126, 1127, 1130, 1132, 1133, 1134, 1135, 1138, 1142, 1143, 1145, 1146, 1147, 1149, 1151]\n",
        "\n",
        "# Consider the information available in the above two lists and answer the question given below"
      ],
      "execution_count": 14,
      "outputs": []
    },
    {
      "cell_type": "markdown",
      "metadata": {
        "id": "NihIlwdMmJ_G"
      },
      "source": [
        "#### Count the total number of orders [ Orders include both processed and returned orders]\n",
        "\n",
        "- 63\n",
        "- 66\n",
        "- 126\n",
        "- 129"
      ]
    },
    {
      "cell_type": "code",
      "metadata": {
        "collapsed": true,
        "id": "M57rXJw0mJ_H",
        "outputId": "64d98d1c-cc8c-445d-bcb7-69cb6a5ebf94",
        "colab": {
          "base_uri": "https://localhost:8080/"
        }
      },
      "source": [
        "total_orders = processed_orders.copy()\n",
        "total_orders.extend(returned_orders)\n",
        "print(len(total_orders))"
      ],
      "execution_count": 19,
      "outputs": [
        {
          "output_type": "stream",
          "text": [
            "63\n",
            "129\n"
          ],
          "name": "stdout"
        }
      ]
    },
    {
      "cell_type": "markdown",
      "metadata": {
        "id": "xFRhT1RpmJ_I"
      },
      "source": [
        "#### In the total orders, identify the 50th order [ Note: Assume the order ID’s are being generated in a consecutive manner]\n",
        "\n",
        "- 1152\n",
        "- 1099\n",
        "- 1154\n",
        "- 1100\n"
      ]
    },
    {
      "cell_type": "code",
      "metadata": {
        "collapsed": true,
        "id": "YkCOHlp8mJ_I",
        "outputId": "ca99f958-0f73-44c9-af52-c3e27af82340",
        "colab": {
          "base_uri": "https://localhost:8080/"
        }
      },
      "source": [
        "total_orders.sort()\n",
        "total_orders[49]"
      ],
      "execution_count": 24,
      "outputs": [
        {
          "output_type": "execute_result",
          "data": {
            "text/plain": [
              "1099"
            ]
          },
          "metadata": {
            "tags": []
          },
          "execution_count": 24
        }
      ]
    },
    {
      "cell_type": "code",
      "metadata": {
        "collapsed": true,
        "id": "nLa3OXVemJ_I"
      },
      "source": [
        ""
      ],
      "execution_count": null,
      "outputs": []
    },
    {
      "cell_type": "code",
      "metadata": {
        "collapsed": true,
        "id": "xFkXlviNmJ_J"
      },
      "source": [
        ""
      ],
      "execution_count": null,
      "outputs": []
    },
    {
      "cell_type": "markdown",
      "metadata": {
        "id": "lMuL2AGumJ_J"
      },
      "source": [
        "#### Is 50th order a returned order or processed order?\n",
        "\n",
        "- Returned Order\n",
        "- Processed Order\n"
      ]
    },
    {
      "cell_type": "code",
      "metadata": {
        "collapsed": true,
        "id": "-vDi2sHQmJ_J",
        "outputId": "c7484738-7041-4a57-8593-f46b925bf84e",
        "colab": {
          "base_uri": "https://localhost:8080/"
        }
      },
      "source": [
        "1099 in returned_orders"
      ],
      "execution_count": 26,
      "outputs": [
        {
          "output_type": "execute_result",
          "data": {
            "text/plain": [
              "False"
            ]
          },
          "metadata": {
            "tags": []
          },
          "execution_count": 26
        }
      ]
    },
    {
      "cell_type": "code",
      "metadata": {
        "id": "n6LCKqjlooWO",
        "outputId": "1f8ec3a4-39a5-4f46-f09f-a9c841eb6e1d",
        "colab": {
          "base_uri": "https://localhost:8080/"
        }
      },
      "source": [
        "1099 in processed_orders"
      ],
      "execution_count": 27,
      "outputs": [
        {
          "output_type": "execute_result",
          "data": {
            "text/plain": [
              "True"
            ]
          },
          "metadata": {
            "tags": []
          },
          "execution_count": 27
        }
      ]
    },
    {
      "cell_type": "markdown",
      "metadata": {
        "id": "I_KPvnZ9mJ_K"
      },
      "source": [
        "#### What is the last processed order ID ? [ Note: Assume the order ID’s are being generated in a consecutive manner]\n",
        "\n",
        "- 1050\n",
        "- 1178\n",
        "- 1124\n",
        "- 1177\n",
        "\n"
      ]
    },
    {
      "cell_type": "code",
      "metadata": {
        "collapsed": true,
        "id": "HaNAvBCvmJ_K",
        "outputId": "75a589d3-6d2f-4d9a-a82d-104a24106ff2",
        "colab": {
          "base_uri": "https://localhost:8080/"
        }
      },
      "source": [
        "\n",
        "sorted(processed_orders)[-1]\n"
      ],
      "execution_count": 28,
      "outputs": [
        {
          "output_type": "execute_result",
          "data": {
            "text/plain": [
              "1178"
            ]
          },
          "metadata": {
            "tags": []
          },
          "execution_count": 28
        }
      ]
    },
    {
      "cell_type": "code",
      "metadata": {
        "collapsed": true,
        "id": "TuQ5u646mJ_K"
      },
      "source": [
        ""
      ],
      "execution_count": null,
      "outputs": []
    },
    {
      "cell_type": "markdown",
      "metadata": {
        "id": "9Ij3d5hbmJ_K"
      },
      "source": [
        "#### Identify the first 4 orders which are processed?\n",
        "\n",
        "- 1152, 1154, 1155, 1156\n",
        "- 1051, 1152, 1153, 1154\n",
        "- 1050, 1051, 1052, 1054\n",
        "- 1050, 1051, 1052, 1053"
      ]
    },
    {
      "cell_type": "code",
      "metadata": {
        "collapsed": true,
        "id": "dmjEgTADmJ_L",
        "outputId": "38bcfc24-bc06-49bd-c409-12d6742f83cc",
        "colab": {
          "base_uri": "https://localhost:8080/"
        }
      },
      "source": [
        "processed_orders[:4]"
      ],
      "execution_count": 34,
      "outputs": [
        {
          "output_type": "execute_result",
          "data": {
            "text/plain": [
              "[1152, 1154, 1155, 1156]"
            ]
          },
          "metadata": {
            "tags": []
          },
          "execution_count": 34
        }
      ]
    },
    {
      "cell_type": "code",
      "metadata": {
        "collapsed": true,
        "id": "yP1ABHG2mJ_L",
        "outputId": "cacda16e-bf91-44d8-bff1-ba4d1f70a1d0",
        "colab": {
          "base_uri": "https://localhost:8080/"
        }
      },
      "source": [
        ""
      ],
      "execution_count": 33,
      "outputs": [
        {
          "output_type": "execute_result",
          "data": {
            "text/plain": [
              "True"
            ]
          },
          "metadata": {
            "tags": []
          },
          "execution_count": 33
        }
      ]
    },
    {
      "cell_type": "code",
      "metadata": {
        "id": "gwJkoRTrpGAL"
      },
      "source": [
        ""
      ],
      "execution_count": null,
      "outputs": []
    }
  ]
}